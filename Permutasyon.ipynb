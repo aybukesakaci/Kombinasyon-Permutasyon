{
  "nbformat": 4,
  "nbformat_minor": 0,
  "metadata": {
    "colab": {
      "name": "Permutasyon.ipynb",
      "version": "0.3.2",
      "provenance": [],
      "include_colab_link": true
    },
    "kernelspec": {
      "display_name": "Python 3",
      "language": "python",
      "name": "python3"
    }
  },
  "cells": [
    {
      "cell_type": "markdown",
      "metadata": {
        "id": "view-in-github",
        "colab_type": "text"
      },
      "source": [
        "<a href=\"https://colab.research.google.com/github/aybukesakaci/Permutasyon-Kombinasyon/blob/master/Permutasyon.ipynb\" target=\"_parent\"><img src=\"https://colab.research.google.com/assets/colab-badge.svg\" alt=\"Open In Colab\"/></a>"
      ]
    },
    {
      "metadata": {
        "colab_type": "text",
        "id": "y_OevcfbebCF"
      },
      "cell_type": "markdown",
      "source": [
        "**Soru:** KELEBEK kelimesinin harfleri yer değiştirerek anlamlı veya anlamsız 7 harfli kaç farklı kelime yazılabilir?"
      ]
    },
    {
      "metadata": {
        "colab_type": "text",
        "id": "vMsknh6pevmU"
      },
      "cell_type": "markdown",
      "source": [
        "**Cevap:** Soru sıralama sorusu olduğu için ve kelime içerisinde tekrarlı harf bulundurduğu için tekrarlı permutasyon ile çözüm yapılacaktır (Toplam Harf Sayısı)! / (Tekrar Eden Harf Sayısı)! formulü kullanılarak cevap 420 bulunabilir."
      ]
    },
    {
      "metadata": {
        "id": "wf0PNMTfZwE7",
        "colab_type": "text"
      },
      "cell_type": "markdown",
      "source": [
        "![res](https://user-images.githubusercontent.com/10299065/54740600-f22da500-4bcc-11e9-8a70-0fde65940cd0.JPG)\n"
      ]
    },
    {
      "metadata": {
        "colab_type": "text",
        "id": "gcUHZ4G1gGJ-"
      },
      "cell_type": "markdown",
      "source": [
        "**Örnek Kod:** Ekrandan girilen kelimenin harfleri yer değiştirilerek kaç farklı kelime yazılabileceğini bulan kod örneği aşağıdaki gibidir. Eğer kullanıcı ekrandan birden fazla kelime girerse 'Girilen kelime sayısı bire eşit olmalıdır!!' uyarısı ekrandan sadece bir kelime girilene kadar devam eder. Girilen kelimenin kaç harften oluştuğu bulunarak faktoriyel hesabı yapılır. Girilen kelimede harflerin sayısı bulunarak tekrar eden harfler için faktöriyel hesabı yapılır ve çarpma işlemi uygulanır. Bulunan iki değer (Toplam Harf Sayısı)! / (Tekrar Eden Harf Sayısı)! formulü uygulanarak bölünür ve sonuç ekrana yazdırılır."
      ]
    },
    {
      "metadata": {
        "colab_type": "code",
        "id": "l6k8f9YmeX19",
        "outputId": "4ff0f213-c38c-4f72-bcdd-21c9f2a15502",
        "colab": {
          "base_uri": "https://localhost:8080/",
          "height": 136
        }
      },
      "cell_type": "code",
      "source": [
        "import math\n",
        "key=True\n",
        "while key==True:\n",
        "  \n",
        "    mystring = input(\"Bir kelime giriniz = \")\n",
        "    words = mystring.split()\n",
        "    wordcount = len(words)\n",
        "    \n",
        "    if wordcount == 1:\n",
        "        letter = {}\n",
        "        repetitive = {}\n",
        "        for w in mystring: \n",
        "            letter[w] = mystring.count(w)\n",
        "            repetitive[w]=math.factorial(mystring.count(w))\n",
        "            \n",
        "        length=len(mystring)\n",
        "        print('Girilen kelime',length,'harften oluşmaktadır.')\n",
        "        total_factorial=math.factorial(length)\n",
        "\n",
        "        for k in sorted(letter):\n",
        "            print (k + ': ' + str(letter[k]))\n",
        "            \n",
        "        repetitive_multiply = 1\n",
        "        for x in repetitive.values(): \n",
        "            repetitive_multiply = repetitive_multiply * x\n",
        "        \n",
        "        result=int(total_factorial/repetitive_multiply)\n",
        "        print('Girilen kelimenin harfleri yer değiştirilerek', result, 'kelime yazılabilir.')\n",
        "        key=False\n",
        "       \n",
        "    else:\n",
        "        print('Girilen kelime sayısı bire eşit olmalıdır!!')\n",
        "        key=True\n"
      ],
      "execution_count": 0,
      "outputs": [
        {
          "output_type": "stream",
          "text": [
            "Bir kelime giriniz = KELEBEK\n",
            "Girilen kelime 7 harften oluşmaktadır.\n",
            "B: 1\n",
            "E: 3\n",
            "K: 2\n",
            "L: 1\n",
            "Girilen kelimenin harfleri yer değiştirilerek 420 kelime yazılabilir.\n"
          ],
          "name": "stdout"
        }
      ]
    }
  ]
}