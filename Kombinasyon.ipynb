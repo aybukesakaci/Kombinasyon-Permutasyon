{
  "nbformat": 4,
  "nbformat_minor": 0,
  "metadata": {
    "colab": {
      "name": "Kombinasyon.ipynb",
      "version": "0.3.2",
      "provenance": [],
      "include_colab_link": true
    },
    "kernelspec": {
      "display_name": "Python 3",
      "language": "python",
      "name": "python3"
    }
  },
  "cells": [
    {
      "cell_type": "markdown",
      "metadata": {
        "id": "view-in-github",
        "colab_type": "text"
      },
      "source": [
        "<a href=\"https://colab.research.google.com/github/aybukesakaci/Kombinasyon-Permutasyon/blob/master/Kombinasyon.ipynb\" target=\"_parent\"><img src=\"https://colab.research.google.com/assets/colab-badge.svg\" alt=\"Open In Colab\"/></a>"
      ]
    },
    {
      "metadata": {
        "colab_type": "text",
        "id": "vKCNb4P_auP0"
      },
      "cell_type": "markdown",
      "source": [
        "**Soru**: 5 gömlekten 3'ü kaç farklı şekilde seçilebilir?"
      ]
    },
    {
      "metadata": {
        "colab_type": "text",
        "id": "_-G1LOw1dx-R"
      },
      "cell_type": "markdown",
      "source": [
        "**Cevap**: Seçim yapılması durumu söz konusu olduğu için kombinasyon ile çözüm yapılacaktır."
      ]
    },
    {
      "metadata": {
        "id": "FqwVo-bYZQMv",
        "colab_type": "text"
      },
      "cell_type": "markdown",
      "source": [
        "![res2](https://user-images.githubusercontent.com/10299065/54740649-125d6400-4bcd-11e9-9ccd-397ffa340ec5.JPG)"
      ]
    },
    {
      "metadata": {
        "colab_type": "text",
        "id": "3-1ema6vcYV5"
      },
      "cell_type": "markdown",
      "source": [
        "**Örnek Kod:** Ekrandan girilen nesne sayısı arasından ekrandan girilen kaç nesnenin kaç farklı şekilde seçilebileceğini hesaplayan örnek kod aşağıdaki gibidir."
      ]
    },
    {
      "metadata": {
        "colab_type": "code",
        "id": "P6SWDilPaqWf",
        "outputId": "23f792db-1e81-4d62-f0f0-94077f302fd8",
        "colab": {
          "base_uri": "https://localhost:8080/",
          "height": 68
        }
      },
      "cell_type": "code",
      "source": [
        "import math\n",
        "\n",
        "toplamsayı = int(input(\"Kaç nesne arasından seçim yapılacak? = \"))\n",
        "secimsayı = int(input(\"Kaç nesne seçilecek? = \"))\n",
        "\n",
        "toplam_faktoriyel=math.factorial(toplamsayı)\n",
        "secim_faktoriyel=math.factorial(secimsayı)\n",
        "geriye_kalan=toplamsayı-secimsayı\n",
        "geriye_kalan_faktoriyel=math.factorial(geriye_kalan)\n",
        "\n",
        "sonuc=toplam_faktoriyel/(secim_faktoriyel*geriye_kalan_faktoriyel)\n",
        "print(toplamsayı,'nesne arasından', secimsayı, 'nesne', sonuc, 'farklı şekilde seçilebilir.')"
      ],
      "execution_count": 0,
      "outputs": [
        {
          "output_type": "stream",
          "text": [
            "Kaç nesne arasından seçim yapılacak? = 5\n",
            "Kaç nesne seçilecek? = 3\n",
            "5 nesne arasından 3 nesne 10.0 farklı şekilde seçilebilir.\n"
          ],
          "name": "stdout"
        }
      ]
    }
  ]
}